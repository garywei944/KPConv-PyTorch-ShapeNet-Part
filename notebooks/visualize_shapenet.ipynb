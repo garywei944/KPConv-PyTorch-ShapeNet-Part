{
 "cells": [
  {
   "cell_type": "code",
   "execution_count": 16,
   "metadata": {
    "collapsed": true
   },
   "outputs": [
    {
     "name": "stdout",
     "output_type": "stream",
     "text": [
      "The autoreload extension is already loaded. To reload it, use:\n",
      "  %reload_ext autoreload\n"
     ]
    }
   ],
   "source": [
    "%load_ext autoreload\n",
    "%autoreload 1\n",
    "\n",
    "import numpy as np\n",
    "import pandas as pd"
   ]
  },
  {
   "cell_type": "code",
   "execution_count": 6,
   "outputs": [
    {
     "data": {
      "text/plain": "['train_test_split',\n '02958343',\n '03797390',\n '02773838',\n '03642806',\n '03790512',\n '02954340',\n '03624134',\n '04379243',\n '03001627',\n 'synsetoffset2category.txt',\n '03948459',\n '02691156',\n '03467517',\n '03636649',\n '03261776',\n '04099429',\n 'README.txt',\n '04225987']"
     },
     "execution_count": 6,
     "metadata": {},
     "output_type": "execute_result"
    }
   ],
   "source": [
    "import os\n",
    "\n",
    "dataset_path = '/home/aris/Downloads/shapenetcore_partanno_segmentation_benchmark_v0'\n",
    "\n",
    "os.listdir(dataset_path)"
   ],
   "metadata": {
    "collapsed": false,
    "pycharm": {
     "name": "#%%\n"
    }
   }
  },
  {
   "cell_type": "code",
   "execution_count": 18,
   "outputs": [
    {
     "data": {
      "text/plain": "0    58479a7b7c157865e68f66efebc71317.pts\n1    3c02356c918f7365b82b2bbc752d3ebb.pts\n2    1ef31b046039bf985c8a41baad250b1b.pts\n3    43d13e139d0eb78668007dfca4077105.pts\n4    5b3fd3199d1bc950c1ae25a29e9d46d3.pts\ndtype: object"
     },
     "execution_count": 18,
     "metadata": {},
     "output_type": "execute_result"
    }
   ],
   "source": [
    "sample = '03001627'\n",
    "sample_path = os.path.join(dataset_path, sample, 'points')\n",
    "\n",
    "cloud_list = pd.Series(os.listdir(sample_path))\n",
    "\n",
    "cloud_list.head()"
   ],
   "metadata": {
    "collapsed": false,
    "pycharm": {
     "name": "#%%\n"
    }
   }
  },
  {
   "cell_type": "code",
   "execution_count": 8,
   "outputs": [
    {
     "name": "stdout",
     "output_type": "stream",
     "text": [
      "Collecting open3d\r\n",
      "  Downloading open3d-0.12.0-cp37-cp37m-manylinux2014_x86_64.whl (188.4 MB)\r\n",
      "\u001B[K     |████████████████████████████████| 188.4 MB 36.9 MB/s eta 0:00:01     |███████████████████████████     | 158.3 MB 25.6 MB/s eta 0:00:02     |██████████████████████████████▉ | 181.5 MB 36.9 MB/s eta 0:00:01\r\n",
      "\u001B[?25hRequirement already satisfied: notebook in /home/aris/Projects/cs674_final_project/.venv/lib/python3.7/site-packages (from open3d) (6.3.0)\r\n",
      "Requirement already satisfied: matplotlib in /home/aris/Projects/cs674_final_project/.venv/lib/python3.7/site-packages (from open3d) (3.4.2)\r\n",
      "Collecting pandas\r\n",
      "  Downloading pandas-1.2.4-cp37-cp37m-manylinux1_x86_64.whl (9.9 MB)\r\n",
      "\u001B[K     |████████████████████████████████| 9.9 MB 20.7 MB/s eta 0:00:01\r\n",
      "\u001B[?25hRequirement already satisfied: plyfile in /home/aris/Projects/cs674_final_project/.venv/lib/python3.7/site-packages (from open3d) (0.7.4)\r\n",
      "Requirement already satisfied: ipywidgets in /home/aris/Projects/cs674_final_project/.venv/lib/python3.7/site-packages (from open3d) (7.6.3)\r\n",
      "Requirement already satisfied: pyyaml in /home/aris/Projects/cs674_final_project/.venv/lib/python3.7/site-packages (from open3d) (5.4.1)\r\n",
      "Requirement already satisfied: numpy in /home/aris/Projects/cs674_final_project/.venv/lib/python3.7/site-packages (from open3d) (1.20.2)\r\n",
      "Requirement already satisfied: widgetsnbextension in /home/aris/Projects/cs674_final_project/.venv/lib/python3.7/site-packages (from open3d) (3.5.1)\r\n",
      "Collecting sklearn\r\n",
      "  Using cached sklearn-0.0.tar.gz (1.1 kB)\r\n",
      "Collecting addict\r\n",
      "  Downloading addict-2.4.0-py3-none-any.whl (3.8 kB)\r\n",
      "Collecting tqdm\r\n",
      "  Using cached tqdm-4.60.0-py2.py3-none-any.whl (75 kB)\r\n",
      "Requirement already satisfied: traitlets>=4.3.1 in /home/aris/Projects/cs674_final_project/.venv/lib/python3.7/site-packages (from ipywidgets->open3d) (5.0.5)\r\n",
      "Requirement already satisfied: ipython>=4.0.0 in /home/aris/Projects/cs674_final_project/.venv/lib/python3.7/site-packages (from ipywidgets->open3d) (7.23.1)\r\n",
      "Requirement already satisfied: jupyterlab-widgets>=1.0.0 in /home/aris/Projects/cs674_final_project/.venv/lib/python3.7/site-packages (from ipywidgets->open3d) (1.0.0)\r\n",
      "Requirement already satisfied: ipykernel>=4.5.1 in /home/aris/Projects/cs674_final_project/.venv/lib/python3.7/site-packages (from ipywidgets->open3d) (5.5.4)\r\n",
      "Requirement already satisfied: nbformat>=4.2.0 in /home/aris/Projects/cs674_final_project/.venv/lib/python3.7/site-packages (from ipywidgets->open3d) (5.1.3)\r\n",
      "Requirement already satisfied: jupyter-client in /home/aris/Projects/cs674_final_project/.venv/lib/python3.7/site-packages (from ipykernel>=4.5.1->ipywidgets->open3d) (6.1.12)\r\n",
      "Requirement already satisfied: tornado>=4.2 in /home/aris/Projects/cs674_final_project/.venv/lib/python3.7/site-packages (from ipykernel>=4.5.1->ipywidgets->open3d) (6.1)\r\n",
      "Requirement already satisfied: pygments in /home/aris/Projects/cs674_final_project/.venv/lib/python3.7/site-packages (from ipython>=4.0.0->ipywidgets->open3d) (2.9.0)\r\n",
      "Requirement already satisfied: pickleshare in /home/aris/Projects/cs674_final_project/.venv/lib/python3.7/site-packages (from ipython>=4.0.0->ipywidgets->open3d) (0.7.5)\r\n",
      "Requirement already satisfied: decorator in /home/aris/Projects/cs674_final_project/.venv/lib/python3.7/site-packages (from ipython>=4.0.0->ipywidgets->open3d) (5.0.7)\r\n",
      "Requirement already satisfied: backcall in /home/aris/Projects/cs674_final_project/.venv/lib/python3.7/site-packages (from ipython>=4.0.0->ipywidgets->open3d) (0.2.0)\r\n",
      "Requirement already satisfied: matplotlib-inline in /home/aris/Projects/cs674_final_project/.venv/lib/python3.7/site-packages (from ipython>=4.0.0->ipywidgets->open3d) (0.1.2)\r\n",
      "Requirement already satisfied: jedi>=0.16 in /home/aris/Projects/cs674_final_project/.venv/lib/python3.7/site-packages (from ipython>=4.0.0->ipywidgets->open3d) (0.18.0)\r\n",
      "Requirement already satisfied: pexpect>4.3 in /home/aris/Projects/cs674_final_project/.venv/lib/python3.7/site-packages (from ipython>=4.0.0->ipywidgets->open3d) (4.8.0)\r\n",
      "Requirement already satisfied: setuptools>=18.5 in /home/aris/Projects/cs674_final_project/.venv/lib/python3.7/site-packages (from ipython>=4.0.0->ipywidgets->open3d) (40.6.2)\r\n",
      "Requirement already satisfied: prompt-toolkit!=3.0.0,!=3.0.1,<3.1.0,>=2.0.0 in /home/aris/Projects/cs674_final_project/.venv/lib/python3.7/site-packages (from ipython>=4.0.0->ipywidgets->open3d) (3.0.18)\r\n",
      "Requirement already satisfied: parso<0.9.0,>=0.8.0 in /home/aris/Projects/cs674_final_project/.venv/lib/python3.7/site-packages (from jedi>=0.16->ipython>=4.0.0->ipywidgets->open3d) (0.8.2)\r\n",
      "Requirement already satisfied: ipython-genutils in /home/aris/Projects/cs674_final_project/.venv/lib/python3.7/site-packages (from nbformat>=4.2.0->ipywidgets->open3d) (0.2.0)\r\n",
      "Requirement already satisfied: jupyter-core in /home/aris/Projects/cs674_final_project/.venv/lib/python3.7/site-packages (from nbformat>=4.2.0->ipywidgets->open3d) (4.7.1)\r\n",
      "Requirement already satisfied: jsonschema!=2.5.0,>=2.4 in /home/aris/Projects/cs674_final_project/.venv/lib/python3.7/site-packages (from nbformat>=4.2.0->ipywidgets->open3d) (3.2.0)\r\n",
      "Requirement already satisfied: pyrsistent>=0.14.0 in /home/aris/Projects/cs674_final_project/.venv/lib/python3.7/site-packages (from jsonschema!=2.5.0,>=2.4->nbformat>=4.2.0->ipywidgets->open3d) (0.17.3)\r\n",
      "Requirement already satisfied: importlib-metadata in /home/aris/Projects/cs674_final_project/.venv/lib/python3.7/site-packages (from jsonschema!=2.5.0,>=2.4->nbformat>=4.2.0->ipywidgets->open3d) (4.0.1)\r\n",
      "Requirement already satisfied: six>=1.11.0 in /home/aris/Projects/cs674_final_project/.venv/lib/python3.7/site-packages (from jsonschema!=2.5.0,>=2.4->nbformat>=4.2.0->ipywidgets->open3d) (1.16.0)\r\n",
      "Requirement already satisfied: attrs>=17.4.0 in /home/aris/Projects/cs674_final_project/.venv/lib/python3.7/site-packages (from jsonschema!=2.5.0,>=2.4->nbformat>=4.2.0->ipywidgets->open3d) (21.2.0)\r\n",
      "Requirement already satisfied: ptyprocess>=0.5 in /home/aris/Projects/cs674_final_project/.venv/lib/python3.7/site-packages (from pexpect>4.3->ipython>=4.0.0->ipywidgets->open3d) (0.7.0)\r\n",
      "Requirement already satisfied: wcwidth in /home/aris/Projects/cs674_final_project/.venv/lib/python3.7/site-packages (from prompt-toolkit!=3.0.0,!=3.0.1,<3.1.0,>=2.0.0->ipython>=4.0.0->ipywidgets->open3d) (0.2.5)\r\n",
      "Requirement already satisfied: prometheus-client in /home/aris/Projects/cs674_final_project/.venv/lib/python3.7/site-packages (from notebook->open3d) (0.10.1)\r\n",
      "Requirement already satisfied: terminado>=0.8.3 in /home/aris/Projects/cs674_final_project/.venv/lib/python3.7/site-packages (from notebook->open3d) (0.9.4)\r\n",
      "Requirement already satisfied: jinja2 in /home/aris/Projects/cs674_final_project/.venv/lib/python3.7/site-packages (from notebook->open3d) (2.11.3)\r\n",
      "Requirement already satisfied: argon2-cffi in /home/aris/Projects/cs674_final_project/.venv/lib/python3.7/site-packages (from notebook->open3d) (20.1.0)\r\n",
      "Requirement already satisfied: nbconvert in /home/aris/Projects/cs674_final_project/.venv/lib/python3.7/site-packages (from notebook->open3d) (6.0.7)\r\n",
      "Requirement already satisfied: Send2Trash>=1.5.0 in /home/aris/Projects/cs674_final_project/.venv/lib/python3.7/site-packages (from notebook->open3d) (1.5.0)\r\n",
      "Requirement already satisfied: pyzmq>=17 in /home/aris/Projects/cs674_final_project/.venv/lib/python3.7/site-packages (from notebook->open3d) (22.0.3)\r\n",
      "Requirement already satisfied: python-dateutil>=2.1 in /home/aris/Projects/cs674_final_project/.venv/lib/python3.7/site-packages (from jupyter-client->ipykernel>=4.5.1->ipywidgets->open3d) (2.8.1)\r\n",
      "Requirement already satisfied: cffi>=1.0.0 in /home/aris/Projects/cs674_final_project/.venv/lib/python3.7/site-packages (from argon2-cffi->notebook->open3d) (1.14.5)\r\n",
      "Requirement already satisfied: pycparser in /home/aris/Projects/cs674_final_project/.venv/lib/python3.7/site-packages (from cffi>=1.0.0->argon2-cffi->notebook->open3d) (2.20)\r\n",
      "Requirement already satisfied: zipp>=0.5 in /home/aris/Projects/cs674_final_project/.venv/lib/python3.7/site-packages (from importlib-metadata->jsonschema!=2.5.0,>=2.4->nbformat>=4.2.0->ipywidgets->open3d) (3.4.1)\r\n",
      "Requirement already satisfied: typing-extensions>=3.6.4 in /home/aris/Projects/cs674_final_project/.venv/lib/python3.7/site-packages (from importlib-metadata->jsonschema!=2.5.0,>=2.4->nbformat>=4.2.0->ipywidgets->open3d) (3.10.0.0)\r\n",
      "Requirement already satisfied: MarkupSafe>=0.23 in /home/aris/Projects/cs674_final_project/.venv/lib/python3.7/site-packages (from jinja2->notebook->open3d) (1.1.1)\r\n",
      "Requirement already satisfied: pyparsing>=2.2.1 in /home/aris/Projects/cs674_final_project/.venv/lib/python3.7/site-packages (from matplotlib->open3d) (2.4.7)\r\n",
      "Requirement already satisfied: pillow>=6.2.0 in /home/aris/Projects/cs674_final_project/.venv/lib/python3.7/site-packages (from matplotlib->open3d) (8.2.0)\r\n",
      "Requirement already satisfied: kiwisolver>=1.0.1 in /home/aris/Projects/cs674_final_project/.venv/lib/python3.7/site-packages (from matplotlib->open3d) (1.3.1)\r\n",
      "Requirement already satisfied: cycler>=0.10 in /home/aris/Projects/cs674_final_project/.venv/lib/python3.7/site-packages (from matplotlib->open3d) (0.10.0)\r\n",
      "Requirement already satisfied: nbclient<0.6.0,>=0.5.0 in /home/aris/Projects/cs674_final_project/.venv/lib/python3.7/site-packages (from nbconvert->notebook->open3d) (0.5.3)\r\n",
      "Requirement already satisfied: defusedxml in /home/aris/Projects/cs674_final_project/.venv/lib/python3.7/site-packages (from nbconvert->notebook->open3d) (0.7.1)\r\n",
      "Requirement already satisfied: mistune<2,>=0.8.1 in /home/aris/Projects/cs674_final_project/.venv/lib/python3.7/site-packages (from nbconvert->notebook->open3d) (0.8.4)\r\n",
      "Requirement already satisfied: testpath in /home/aris/Projects/cs674_final_project/.venv/lib/python3.7/site-packages (from nbconvert->notebook->open3d) (0.4.4)\r\n",
      "Requirement already satisfied: jupyterlab-pygments in /home/aris/Projects/cs674_final_project/.venv/lib/python3.7/site-packages (from nbconvert->notebook->open3d) (0.1.2)\r\n",
      "Requirement already satisfied: pandocfilters>=1.4.1 in /home/aris/Projects/cs674_final_project/.venv/lib/python3.7/site-packages (from nbconvert->notebook->open3d) (1.4.3)\r\n",
      "Requirement already satisfied: bleach in /home/aris/Projects/cs674_final_project/.venv/lib/python3.7/site-packages (from nbconvert->notebook->open3d) (3.3.0)\r\n",
      "Requirement already satisfied: entrypoints>=0.2.2 in /home/aris/Projects/cs674_final_project/.venv/lib/python3.7/site-packages (from nbconvert->notebook->open3d) (0.3)\r\n",
      "Requirement already satisfied: async-generator in /home/aris/Projects/cs674_final_project/.venv/lib/python3.7/site-packages (from nbclient<0.6.0,>=0.5.0->nbconvert->notebook->open3d) (1.10)\r\n",
      "Requirement already satisfied: nest-asyncio in /home/aris/Projects/cs674_final_project/.venv/lib/python3.7/site-packages (from nbclient<0.6.0,>=0.5.0->nbconvert->notebook->open3d) (1.5.1)\r\n",
      "Requirement already satisfied: webencodings in /home/aris/Projects/cs674_final_project/.venv/lib/python3.7/site-packages (from bleach->nbconvert->notebook->open3d) (0.5.1)\r\n",
      "Requirement already satisfied: packaging in /home/aris/Projects/cs674_final_project/.venv/lib/python3.7/site-packages (from bleach->nbconvert->notebook->open3d) (20.9)\r\n",
      "Collecting pytz>=2017.3\r\n",
      "  Using cached pytz-2021.1-py2.py3-none-any.whl (510 kB)\r\n",
      "Requirement already satisfied: scikit-learn in /home/aris/Projects/cs674_final_project/.venv/lib/python3.7/site-packages (from sklearn->open3d) (0.24.2)\r\n",
      "Requirement already satisfied: joblib>=0.11 in /home/aris/Projects/cs674_final_project/.venv/lib/python3.7/site-packages (from scikit-learn->sklearn->open3d) (1.0.1)\r\n",
      "Requirement already satisfied: scipy>=0.19.1 in /home/aris/Projects/cs674_final_project/.venv/lib/python3.7/site-packages (from scikit-learn->sklearn->open3d) (1.6.3)\r\n",
      "Requirement already satisfied: threadpoolctl>=2.0.0 in /home/aris/Projects/cs674_final_project/.venv/lib/python3.7/site-packages (from scikit-learn->sklearn->open3d) (2.1.0)\r\n",
      "Using legacy 'setup.py install' for sklearn, since package 'wheel' is not installed.\r\n",
      "Installing collected packages: pytz, tqdm, sklearn, pandas, addict, open3d\r\n",
      "    Running setup.py install for sklearn ... \u001B[?25l-\b \bdone\r\n",
      "\u001B[?25hSuccessfully installed addict-2.4.0 open3d-0.12.0 pandas-1.2.4 pytz-2021.1 sklearn-0.0 tqdm-4.60.0\r\n"
     ]
    }
   ],
   "source": [
    "!pip install open3d"
   ],
   "metadata": {
    "collapsed": false,
    "pycharm": {
     "name": "#%%\n"
    }
   }
  },
  {
   "cell_type": "code",
   "execution_count": 20,
   "outputs": [
    {
     "name": "stdout",
     "output_type": "stream",
     "text": [
      "\u001B[1;33m[Open3D WARNING] Read PTS failed: unable to read header.\u001B[0;m\n"
     ]
    }
   ],
   "source": [
    "import open3d\n",
    "\n",
    "cloud = open3d.io.read_point_cloud(os.path.join(sample_path, cloud_list.loc[0]))"
   ],
   "metadata": {
    "collapsed": false,
    "pycharm": {
     "name": "#%%\n"
    }
   }
  },
  {
   "cell_type": "code",
   "execution_count": 23,
   "outputs": [],
   "source": [
    "def read_pts(filename):\n",
    "    return np.loadtxt(filename, comments=(\"version:\", \"n_points:\", \"{\", \"}\"))"
   ],
   "metadata": {
    "collapsed": false,
    "pycharm": {
     "name": "#%%\n"
    }
   }
  },
  {
   "cell_type": "code",
   "execution_count": 24,
   "outputs": [],
   "source": [
    "cloud = read_pts(os.path.join(sample_path, cloud_list[0]))"
   ],
   "metadata": {
    "collapsed": false,
    "pycharm": {
     "name": "#%%\n"
    }
   }
  },
  {
   "cell_type": "code",
   "execution_count": 28,
   "outputs": [
    {
     "data": {
      "text/plain": "            0        1        2\n0    -0.10351 -0.15152  0.15313\n1    -0.10351 -0.14524  0.12069\n2    -0.20707  0.37494 -0.06286\n3    -0.20735  0.40506 -0.06162\n4    -0.20832  0.41314 -0.05730\n...       ...      ...      ...\n2727 -0.05462 -0.04647 -0.10037\n2728 -0.04252 -0.04647 -0.10069\n2729 -0.20497  0.32883  0.06317\n2730 -0.19565  0.32030  0.08733\n2731 -0.19906  0.35431  0.07850\n\n[2732 rows x 3 columns]",
      "text/html": "<div>\n<style scoped>\n    .dataframe tbody tr th:only-of-type {\n        vertical-align: middle;\n    }\n\n    .dataframe tbody tr th {\n        vertical-align: top;\n    }\n\n    .dataframe thead th {\n        text-align: right;\n    }\n</style>\n<table border=\"1\" class=\"dataframe\">\n  <thead>\n    <tr style=\"text-align: right;\">\n      <th></th>\n      <th>0</th>\n      <th>1</th>\n      <th>2</th>\n    </tr>\n  </thead>\n  <tbody>\n    <tr>\n      <th>0</th>\n      <td>-0.10351</td>\n      <td>-0.15152</td>\n      <td>0.15313</td>\n    </tr>\n    <tr>\n      <th>1</th>\n      <td>-0.10351</td>\n      <td>-0.14524</td>\n      <td>0.12069</td>\n    </tr>\n    <tr>\n      <th>2</th>\n      <td>-0.20707</td>\n      <td>0.37494</td>\n      <td>-0.06286</td>\n    </tr>\n    <tr>\n      <th>3</th>\n      <td>-0.20735</td>\n      <td>0.40506</td>\n      <td>-0.06162</td>\n    </tr>\n    <tr>\n      <th>4</th>\n      <td>-0.20832</td>\n      <td>0.41314</td>\n      <td>-0.05730</td>\n    </tr>\n    <tr>\n      <th>...</th>\n      <td>...</td>\n      <td>...</td>\n      <td>...</td>\n    </tr>\n    <tr>\n      <th>2727</th>\n      <td>-0.05462</td>\n      <td>-0.04647</td>\n      <td>-0.10037</td>\n    </tr>\n    <tr>\n      <th>2728</th>\n      <td>-0.04252</td>\n      <td>-0.04647</td>\n      <td>-0.10069</td>\n    </tr>\n    <tr>\n      <th>2729</th>\n      <td>-0.20497</td>\n      <td>0.32883</td>\n      <td>0.06317</td>\n    </tr>\n    <tr>\n      <th>2730</th>\n      <td>-0.19565</td>\n      <td>0.32030</td>\n      <td>0.08733</td>\n    </tr>\n    <tr>\n      <th>2731</th>\n      <td>-0.19906</td>\n      <td>0.35431</td>\n      <td>0.07850</td>\n    </tr>\n  </tbody>\n</table>\n<p>2732 rows × 3 columns</p>\n</div>"
     },
     "metadata": {},
     "output_type": "display_data"
    }
   ],
   "source": [
    "from IPython.display import display\n",
    "\n",
    "display(pd.DataFrame(cloud))"
   ],
   "metadata": {
    "collapsed": false,
    "pycharm": {
     "name": "#%%\n"
    }
   }
  },
  {
   "cell_type": "code",
   "execution_count": 30,
   "outputs": [],
   "source": [
    "# Visualize the chair model\n",
    "\n",
    "pcd = open3d.geometry.PointCloud()\n",
    "pcd.points = open3d.utility.Vector3dVector(cloud[:,0:3]) # XYZ points\n",
    "# pcd.colors = Vector3dVector(pc[:,3:6]/ 255.0)  #open3d requires colors (RGB) to be in range[0,1]\n",
    "open3d.visualization.draw_geometries([pcd])"
   ],
   "metadata": {
    "collapsed": false,
    "pycharm": {
     "name": "#%%\n"
    }
   }
  },
  {
   "cell_type": "code",
   "execution_count": null,
   "outputs": [],
   "source": [],
   "metadata": {
    "collapsed": false,
    "pycharm": {
     "name": "#%%\n"
    }
   }
  }
 ],
 "metadata": {
  "kernelspec": {
   "display_name": "Python 3",
   "language": "python",
   "name": "python3"
  },
  "language_info": {
   "codemirror_mode": {
    "name": "ipython",
    "version": 2
   },
   "file_extension": ".py",
   "mimetype": "text/x-python",
   "name": "python",
   "nbconvert_exporter": "python",
   "pygments_lexer": "ipython2",
   "version": "2.7.6"
  }
 },
 "nbformat": 4,
 "nbformat_minor": 0
}